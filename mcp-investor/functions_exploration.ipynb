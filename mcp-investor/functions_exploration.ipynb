{
 "cells": [
  {
   "cell_type": "code",
   "execution_count": 87,
   "metadata": {},
   "outputs": [],
   "source": [
    "import pandas as pd\n",
    "# from crewai_tools import (\n",
    "#     DirectoryReadTool,\n",
    "#     FileReadTool,\n",
    "#     SerperDevTool,\n",
    "#     WebsiteSearchTool\n",
    "# )\n",
    "import os\n",
    "from openpyxl import load_workbook\n",
    "import math"
   ]
  },
  {
   "cell_type": "code",
   "execution_count": 90,
   "metadata": {},
   "outputs": [],
   "source": [
    "SPREADSHEET_FILEPATH = \"investments.xlsx\""
   ]
  },
  {
   "cell_type": "code",
   "execution_count": null,
   "metadata": {},
   "outputs": [],
   "source": [
    "from pydantic import BaseModel\n",
    "class InvestmentRequest(BaseModel):\n",
    "    sheet_name: str\n",
    "    distribution_dict: dict\n",
    "\n",
    "def execute_investments(\n",
    "    request: InvestmentRequest\n",
    ") -> None:\n",
    "    \"\"\"\n",
    "    Updates the investment values in the given sheet\n",
    "    based on the distribution dictionary.\n",
    "    Use the return value of the get_investment_distribution\n",
    "    function as the parameter distribution_dict.\n",
    "    \"\"\"\n",
    "    wb = load_workbook(SPREADSHEET_FILEPATH)\n",
    "    ws = wb[request.sheet_name]\n",
    "    for cols in list(ws.rows)[0]:\n",
    "        if cols.value == \"Investment\":\n",
    "            investment_letter = cols.column_letter\n",
    "    for idx, tick_xls in enumerate(ws[\"A\"][1:], start=1):\n",
    "        current_investment = ws[investment_letter][idx].value or 0\n",
    "        for tick_inv, quant in request.distribution_dict.items():\n",
    "            if tick_xls.value == tick_inv and not isinstance(current_investment, str):\n",
    "                # print(current_investment, quant)\n",
    "                print(ws[investment_letter][idx].value)\n",
    "                ws[investment_letter][idx].value = current_investment + quant\n",
    "    wb.save(SPREADSHEET_FILEPATH)"
   ]
  },
  {
   "cell_type": "code",
   "execution_count": 104,
   "metadata": {},
   "outputs": [],
   "source": [
    "def update_investment_distributions(spreadsheet_file_path) -> None:\n",
    "    wb = load_workbook(spreadsheet_file_path)\n",
    "    total_values = []\n",
    "    for sheet in wb.sheetnames[1:]:\n",
    "        df = pd.read_excel(spreadsheet_file_path, sheet_name=sheet)\n",
    "        invest_sum = round(float(df.iloc[:-1, -1].sum()), 2)\n",
    "        total_values.append(invest_sum)\n",
    "        for i in range(1, len(wb[\"Distribution\"][\"A\"])):\n",
    "            if wb[\"Distribution\"][\"A\"][i].value == sheet:\n",
    "                print(wb[\"Distribution\"][\"A\"][i].value)\n",
    "                wb[\"Distribution\"][\"D\"][i].value = invest_sum\n",
    "                print(wb[\"Distribution\"][\"D\"][i].value)\n",
    "    wb.save(spreadsheet_file_path)"
   ]
  },
  {
   "cell_type": "code",
   "execution_count": null,
   "metadata": {},
   "outputs": [],
   "source": [
    "def get_investment_distribution(sheet_name: str, total_value: int) -> dict:\n",
    "    \"\"\"\n",
    "    Given a total investment value, this function returns the \n",
    "    monetary value for each investment based on each investment percentage.\n",
    "    \"\"\"\n",
    "    df = pd.read_excel(\"investments.xlsx\", sheet_name=sheet_name).fillna(0)\n",
    "    def_col = df.columns[0]\n",
    "    distribution = {}\n",
    "    sum_to_be_invested = 0\n",
    "    new_value = total_value\n",
    "    while math.ceil(sum_to_be_invested) != total_value:\n",
    "        for _, row in df.iterrows():\n",
    "            if row[\"Target Percentage\"] >= row[\"Current Percentage\"] and \\\n",
    "                row[\"Target Percentage\"] < 1.0:\n",
    "                if distribution.get(row[def_col]) is None:\n",
    "                    distribution[row[def_col]] = row[\"Target Percentage\"] * new_value\n",
    "                else:\n",
    "                    distribution[row[def_col]] += row[\"Target Percentage\"] * new_value\n",
    "        sum_to_be_invested = sum(list(distribution.values()))\n",
    "        new_value = total_value - sum_to_be_invested\n",
    "    for key in distribution.keys():\n",
    "        distribution[key] = round(distribution[key], 2)\n",
    "    return distribution"
   ]
  },
  {
   "cell_type": "code",
   "execution_count": null,
   "metadata": {},
   "outputs": [],
   "source": [
    "def get_tick_information_from_excel_file(filepath: str, sheet_name: str, code_identifier: str) -> str:\n",
    "    \"\"\"\n",
    "    Read the excel file contianing the investment information, and return a row of the \n",
    "    dataframe in a LLM readable format, based on the provided code\n",
    "    \"\"\"\n",
    "    df = pd.read_excel(filepath, sheet_name=sheet_name)\n",
    "    row_filter = df.loc[df[\"Tick\"] == code_identifier].to_dict(orient=\"list\")\n",
    "    return '\\n'.join([f\"{key}: {value[0]}\" for key, value in row_filter.items()])"
   ]
  }
 ],
 "metadata": {
  "kernelspec": {
   "display_name": "mcp",
   "language": "python",
   "name": "python3"
  },
  "language_info": {
   "codemirror_mode": {
    "name": "ipython",
    "version": 3
   },
   "file_extension": ".py",
   "mimetype": "text/x-python",
   "name": "python",
   "nbconvert_exporter": "python",
   "pygments_lexer": "ipython3",
   "version": "3.12.9"
  }
 },
 "nbformat": 4,
 "nbformat_minor": 2
}
